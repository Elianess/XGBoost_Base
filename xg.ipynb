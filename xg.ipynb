{
 "cells": [
  {
   "cell_type": "markdown",
   "id": "5bba1eb5-f527-42a5-9507-8c57389f8a7b",
   "metadata": {},
   "source": [
    "Задача: нужно предсказать доход человека (больше $50000 или меньше) по результатам переписи населения\n",
    "\n",
    "https://archive.ics.uci.edu/ml/datasets/Adults"
   ]
  },
  {
   "cell_type": "code",
   "execution_count": 2,
   "id": "612851d2-10dd-4ce3-bf0d-d2618cc7dfde",
   "metadata": {},
   "outputs": [],
   "source": [
    "import numpy as np\n",
    "import pandas as pd\n",
    "import matplotlib\n",
    "import matplotlib.pyplot as plt\n",
    "\n",
    "matplotlib.style.use('ggplot')\n",
    "%matplotlib inline"
   ]
  },
  {
   "cell_type": "markdown",
   "id": "4e861acb-2f58-443f-b164-437166b4a689",
   "metadata": {},
   "source": [
    "### Train data"
   ]
  },
  {
   "cell_type": "code",
   "execution_count": 3,
   "id": "1ee6add7-cc27-42bd-96c9-53d6f58de58b",
   "metadata": {},
   "outputs": [],
   "source": [
    "columns = ['age', 'workclass', 'fnlwgt', 'education', \n",
    "           'education-num', 'marital-status', 'occupation', \n",
    "           'relationship', 'race', 'sex', 'capital-gain', \n",
    "           'capital-loss', 'hours-per-week', 'native-country', 'income']\n",
    "df = pd.read_csv('adult.data', \n",
    "                 header = None, \n",
    "                 names = columns,\n",
    "                 na_values=' ?')"
   ]
  },
  {
   "cell_type": "code",
   "execution_count": 4,
   "id": "a67da4d1-acbc-48ad-bb8c-985a73111b7b",
   "metadata": {},
   "outputs": [
    {
     "data": {
      "text/html": [
       "<div>\n",
       "<style scoped>\n",
       "    .dataframe tbody tr th:only-of-type {\n",
       "        vertical-align: middle;\n",
       "    }\n",
       "\n",
       "    .dataframe tbody tr th {\n",
       "        vertical-align: top;\n",
       "    }\n",
       "\n",
       "    .dataframe thead th {\n",
       "        text-align: right;\n",
       "    }\n",
       "</style>\n",
       "<table border=\"1\" class=\"dataframe\">\n",
       "  <thead>\n",
       "    <tr style=\"text-align: right;\">\n",
       "      <th></th>\n",
       "      <th>age</th>\n",
       "      <th>workclass</th>\n",
       "      <th>fnlwgt</th>\n",
       "      <th>education</th>\n",
       "      <th>education-num</th>\n",
       "      <th>marital-status</th>\n",
       "      <th>occupation</th>\n",
       "      <th>relationship</th>\n",
       "      <th>race</th>\n",
       "      <th>sex</th>\n",
       "      <th>capital-gain</th>\n",
       "      <th>capital-loss</th>\n",
       "      <th>hours-per-week</th>\n",
       "      <th>native-country</th>\n",
       "      <th>income</th>\n",
       "    </tr>\n",
       "  </thead>\n",
       "  <tbody>\n",
       "    <tr>\n",
       "      <th>0</th>\n",
       "      <td>39</td>\n",
       "      <td>State-gov</td>\n",
       "      <td>77516</td>\n",
       "      <td>Bachelors</td>\n",
       "      <td>13</td>\n",
       "      <td>Never-married</td>\n",
       "      <td>Adm-clerical</td>\n",
       "      <td>Not-in-family</td>\n",
       "      <td>White</td>\n",
       "      <td>Male</td>\n",
       "      <td>2174</td>\n",
       "      <td>0</td>\n",
       "      <td>40</td>\n",
       "      <td>United-States</td>\n",
       "      <td>&lt;=50K</td>\n",
       "    </tr>\n",
       "    <tr>\n",
       "      <th>1</th>\n",
       "      <td>50</td>\n",
       "      <td>Self-emp-not-inc</td>\n",
       "      <td>83311</td>\n",
       "      <td>Bachelors</td>\n",
       "      <td>13</td>\n",
       "      <td>Married-civ-spouse</td>\n",
       "      <td>Exec-managerial</td>\n",
       "      <td>Husband</td>\n",
       "      <td>White</td>\n",
       "      <td>Male</td>\n",
       "      <td>0</td>\n",
       "      <td>0</td>\n",
       "      <td>13</td>\n",
       "      <td>United-States</td>\n",
       "      <td>&lt;=50K</td>\n",
       "    </tr>\n",
       "    <tr>\n",
       "      <th>2</th>\n",
       "      <td>38</td>\n",
       "      <td>Private</td>\n",
       "      <td>215646</td>\n",
       "      <td>HS-grad</td>\n",
       "      <td>9</td>\n",
       "      <td>Divorced</td>\n",
       "      <td>Handlers-cleaners</td>\n",
       "      <td>Not-in-family</td>\n",
       "      <td>White</td>\n",
       "      <td>Male</td>\n",
       "      <td>0</td>\n",
       "      <td>0</td>\n",
       "      <td>40</td>\n",
       "      <td>United-States</td>\n",
       "      <td>&lt;=50K</td>\n",
       "    </tr>\n",
       "    <tr>\n",
       "      <th>3</th>\n",
       "      <td>53</td>\n",
       "      <td>Private</td>\n",
       "      <td>234721</td>\n",
       "      <td>11th</td>\n",
       "      <td>7</td>\n",
       "      <td>Married-civ-spouse</td>\n",
       "      <td>Handlers-cleaners</td>\n",
       "      <td>Husband</td>\n",
       "      <td>Black</td>\n",
       "      <td>Male</td>\n",
       "      <td>0</td>\n",
       "      <td>0</td>\n",
       "      <td>40</td>\n",
       "      <td>United-States</td>\n",
       "      <td>&lt;=50K</td>\n",
       "    </tr>\n",
       "    <tr>\n",
       "      <th>4</th>\n",
       "      <td>28</td>\n",
       "      <td>Private</td>\n",
       "      <td>338409</td>\n",
       "      <td>Bachelors</td>\n",
       "      <td>13</td>\n",
       "      <td>Married-civ-spouse</td>\n",
       "      <td>Prof-specialty</td>\n",
       "      <td>Wife</td>\n",
       "      <td>Black</td>\n",
       "      <td>Female</td>\n",
       "      <td>0</td>\n",
       "      <td>0</td>\n",
       "      <td>40</td>\n",
       "      <td>Cuba</td>\n",
       "      <td>&lt;=50K</td>\n",
       "    </tr>\n",
       "  </tbody>\n",
       "</table>\n",
       "</div>"
      ],
      "text/plain": [
       "   age          workclass  fnlwgt   education  education-num  \\\n",
       "0   39          State-gov   77516   Bachelors             13   \n",
       "1   50   Self-emp-not-inc   83311   Bachelors             13   \n",
       "2   38            Private  215646     HS-grad              9   \n",
       "3   53            Private  234721        11th              7   \n",
       "4   28            Private  338409   Bachelors             13   \n",
       "\n",
       "        marital-status          occupation    relationship    race      sex  \\\n",
       "0        Never-married        Adm-clerical   Not-in-family   White     Male   \n",
       "1   Married-civ-spouse     Exec-managerial         Husband   White     Male   \n",
       "2             Divorced   Handlers-cleaners   Not-in-family   White     Male   \n",
       "3   Married-civ-spouse   Handlers-cleaners         Husband   Black     Male   \n",
       "4   Married-civ-spouse      Prof-specialty            Wife   Black   Female   \n",
       "\n",
       "   capital-gain  capital-loss  hours-per-week  native-country  income  \n",
       "0          2174             0              40   United-States   <=50K  \n",
       "1             0             0              13   United-States   <=50K  \n",
       "2             0             0              40   United-States   <=50K  \n",
       "3             0             0              40   United-States   <=50K  \n",
       "4             0             0              40            Cuba   <=50K  "
      ]
     },
     "execution_count": 4,
     "metadata": {},
     "output_type": "execute_result"
    }
   ],
   "source": [
    "df.head()"
   ]
  },
  {
   "cell_type": "code",
   "execution_count": 5,
   "id": "57edb8dd-6465-4285-837c-746d1bda20d2",
   "metadata": {},
   "outputs": [
    {
     "name": "stdout",
     "output_type": "stream",
     "text": [
      "Размер набора данных: (32561, 15)\n"
     ]
    }
   ],
   "source": [
    "print(f'Размер набора данных: {df.shape}')"
   ]
  },
  {
   "cell_type": "markdown",
   "id": "a79163fc-a22c-4522-8add-79e72ebfa669",
   "metadata": {},
   "source": [
    "Чтобы не было дублирования удаляем столбец `education`, так как у нас есть кол-во лет обучения в толбце `education-num` "
   ]
  },
  {
   "cell_type": "code",
   "execution_count": 6,
   "id": "d74d02a9-65ff-4410-b5c7-11d018087d85",
   "metadata": {},
   "outputs": [],
   "source": [
    "df = df.drop('education', axis = 1)"
   ]
  },
  {
   "cell_type": "markdown",
   "id": "5152bdae-3f1c-4596-8713-772a08f48de0",
   "metadata": {},
   "source": [
    "Также преобразуем столбец `income` в бинарные значения"
   ]
  },
  {
   "cell_type": "code",
   "execution_count": 7,
   "id": "e7fdd5db-e797-46b0-83d1-f5e437e06017",
   "metadata": {},
   "outputs": [
    {
     "data": {
      "text/plain": [
       "array([' <=50K', ' >50K'], dtype=object)"
      ]
     },
     "execution_count": 7,
     "metadata": {},
     "output_type": "execute_result"
    }
   ],
   "source": [
    "df['income'].unique()"
   ]
  },
  {
   "cell_type": "code",
   "execution_count": 8,
   "id": "d96a9beb-abe8-437e-bd33-5a55d68f261c",
   "metadata": {},
   "outputs": [],
   "source": [
    "df['income'] = df['income'].map({' <=50K': 0,\n",
    "                                 ' >50K' : 1})"
   ]
  },
  {
   "cell_type": "code",
   "execution_count": 9,
   "id": "ffed4c5c-294d-40ed-9d4c-cc9cb7582145",
   "metadata": {},
   "outputs": [
    {
     "data": {
      "text/html": [
       "<div>\n",
       "<style scoped>\n",
       "    .dataframe tbody tr th:only-of-type {\n",
       "        vertical-align: middle;\n",
       "    }\n",
       "\n",
       "    .dataframe tbody tr th {\n",
       "        vertical-align: top;\n",
       "    }\n",
       "\n",
       "    .dataframe thead th {\n",
       "        text-align: right;\n",
       "    }\n",
       "</style>\n",
       "<table border=\"1\" class=\"dataframe\">\n",
       "  <thead>\n",
       "    <tr style=\"text-align: right;\">\n",
       "      <th></th>\n",
       "      <th>age</th>\n",
       "      <th>workclass</th>\n",
       "      <th>fnlwgt</th>\n",
       "      <th>education-num</th>\n",
       "      <th>marital-status</th>\n",
       "      <th>occupation</th>\n",
       "      <th>relationship</th>\n",
       "      <th>race</th>\n",
       "      <th>sex</th>\n",
       "      <th>capital-gain</th>\n",
       "      <th>capital-loss</th>\n",
       "      <th>hours-per-week</th>\n",
       "      <th>native-country</th>\n",
       "      <th>income</th>\n",
       "    </tr>\n",
       "  </thead>\n",
       "  <tbody>\n",
       "    <tr>\n",
       "      <th>0</th>\n",
       "      <td>39</td>\n",
       "      <td>State-gov</td>\n",
       "      <td>77516</td>\n",
       "      <td>13</td>\n",
       "      <td>Never-married</td>\n",
       "      <td>Adm-clerical</td>\n",
       "      <td>Not-in-family</td>\n",
       "      <td>White</td>\n",
       "      <td>Male</td>\n",
       "      <td>2174</td>\n",
       "      <td>0</td>\n",
       "      <td>40</td>\n",
       "      <td>United-States</td>\n",
       "      <td>0</td>\n",
       "    </tr>\n",
       "    <tr>\n",
       "      <th>1</th>\n",
       "      <td>50</td>\n",
       "      <td>Self-emp-not-inc</td>\n",
       "      <td>83311</td>\n",
       "      <td>13</td>\n",
       "      <td>Married-civ-spouse</td>\n",
       "      <td>Exec-managerial</td>\n",
       "      <td>Husband</td>\n",
       "      <td>White</td>\n",
       "      <td>Male</td>\n",
       "      <td>0</td>\n",
       "      <td>0</td>\n",
       "      <td>13</td>\n",
       "      <td>United-States</td>\n",
       "      <td>0</td>\n",
       "    </tr>\n",
       "    <tr>\n",
       "      <th>2</th>\n",
       "      <td>38</td>\n",
       "      <td>Private</td>\n",
       "      <td>215646</td>\n",
       "      <td>9</td>\n",
       "      <td>Divorced</td>\n",
       "      <td>Handlers-cleaners</td>\n",
       "      <td>Not-in-family</td>\n",
       "      <td>White</td>\n",
       "      <td>Male</td>\n",
       "      <td>0</td>\n",
       "      <td>0</td>\n",
       "      <td>40</td>\n",
       "      <td>United-States</td>\n",
       "      <td>0</td>\n",
       "    </tr>\n",
       "    <tr>\n",
       "      <th>3</th>\n",
       "      <td>53</td>\n",
       "      <td>Private</td>\n",
       "      <td>234721</td>\n",
       "      <td>7</td>\n",
       "      <td>Married-civ-spouse</td>\n",
       "      <td>Handlers-cleaners</td>\n",
       "      <td>Husband</td>\n",
       "      <td>Black</td>\n",
       "      <td>Male</td>\n",
       "      <td>0</td>\n",
       "      <td>0</td>\n",
       "      <td>40</td>\n",
       "      <td>United-States</td>\n",
       "      <td>0</td>\n",
       "    </tr>\n",
       "    <tr>\n",
       "      <th>4</th>\n",
       "      <td>28</td>\n",
       "      <td>Private</td>\n",
       "      <td>338409</td>\n",
       "      <td>13</td>\n",
       "      <td>Married-civ-spouse</td>\n",
       "      <td>Prof-specialty</td>\n",
       "      <td>Wife</td>\n",
       "      <td>Black</td>\n",
       "      <td>Female</td>\n",
       "      <td>0</td>\n",
       "      <td>0</td>\n",
       "      <td>40</td>\n",
       "      <td>Cuba</td>\n",
       "      <td>0</td>\n",
       "    </tr>\n",
       "  </tbody>\n",
       "</table>\n",
       "</div>"
      ],
      "text/plain": [
       "   age          workclass  fnlwgt  education-num       marital-status  \\\n",
       "0   39          State-gov   77516             13        Never-married   \n",
       "1   50   Self-emp-not-inc   83311             13   Married-civ-spouse   \n",
       "2   38            Private  215646              9             Divorced   \n",
       "3   53            Private  234721              7   Married-civ-spouse   \n",
       "4   28            Private  338409             13   Married-civ-spouse   \n",
       "\n",
       "           occupation    relationship    race      sex  capital-gain  \\\n",
       "0        Adm-clerical   Not-in-family   White     Male          2174   \n",
       "1     Exec-managerial         Husband   White     Male             0   \n",
       "2   Handlers-cleaners   Not-in-family   White     Male             0   \n",
       "3   Handlers-cleaners         Husband   Black     Male             0   \n",
       "4      Prof-specialty            Wife   Black   Female             0   \n",
       "\n",
       "   capital-loss  hours-per-week  native-country  income  \n",
       "0             0              40   United-States       0  \n",
       "1             0              13   United-States       0  \n",
       "2             0              40   United-States       0  \n",
       "3             0              40   United-States       0  \n",
       "4             0              40            Cuba       0  "
      ]
     },
     "execution_count": 9,
     "metadata": {},
     "output_type": "execute_result"
    }
   ],
   "source": [
    "df.head()"
   ]
  },
  {
   "cell_type": "code",
   "execution_count": 10,
   "id": "9e514203-f253-4d6e-af73-083c081cc300",
   "metadata": {},
   "outputs": [
    {
     "data": {
      "text/plain": [
       "age                  0\n",
       "workclass         1836\n",
       "fnlwgt               0\n",
       "education-num        0\n",
       "marital-status       0\n",
       "occupation        1843\n",
       "relationship         0\n",
       "race                 0\n",
       "sex                  0\n",
       "capital-gain         0\n",
       "capital-loss         0\n",
       "hours-per-week       0\n",
       "native-country     583\n",
       "income               0\n",
       "dtype: int64"
      ]
     },
     "execution_count": 10,
     "metadata": {},
     "output_type": "execute_result"
    }
   ],
   "source": [
    "df.isnull().sum()"
   ]
  },
  {
   "cell_type": "markdown",
   "id": "66d52ede-007f-4b5b-8188-53d93a589cb3",
   "metadata": {},
   "source": [
    "у нас есть пустые занчения и так как размер набора данных достаточно большой, можно просто избавиться от них путем удаления"
   ]
  },
  {
   "cell_type": "code",
   "execution_count": 11,
   "id": "99280eba-a575-45ad-bd8a-fd0189c90c67",
   "metadata": {},
   "outputs": [],
   "source": [
    "df = df.dropna()"
   ]
  },
  {
   "cell_type": "code",
   "execution_count": 12,
   "id": "b3e683fd-9e0a-4c2f-a4b9-c6d5f0c04d67",
   "metadata": {},
   "outputs": [
    {
     "name": "stdout",
     "output_type": "stream",
     "text": [
      "<class 'pandas.core.frame.DataFrame'>\n",
      "Index: 30162 entries, 0 to 32560\n",
      "Data columns (total 14 columns):\n",
      " #   Column          Non-Null Count  Dtype \n",
      "---  ------          --------------  ----- \n",
      " 0   age             30162 non-null  int64 \n",
      " 1   workclass       30162 non-null  object\n",
      " 2   fnlwgt          30162 non-null  int64 \n",
      " 3   education-num   30162 non-null  int64 \n",
      " 4   marital-status  30162 non-null  object\n",
      " 5   occupation      30162 non-null  object\n",
      " 6   relationship    30162 non-null  object\n",
      " 7   race            30162 non-null  object\n",
      " 8   sex             30162 non-null  object\n",
      " 9   capital-gain    30162 non-null  int64 \n",
      " 10  capital-loss    30162 non-null  int64 \n",
      " 11  hours-per-week  30162 non-null  int64 \n",
      " 12  native-country  30162 non-null  object\n",
      " 13  income          30162 non-null  int64 \n",
      "dtypes: int64(7), object(7)\n",
      "memory usage: 3.5+ MB\n"
     ]
    }
   ],
   "source": [
    "df.info()"
   ]
  },
  {
   "cell_type": "markdown",
   "id": "b7d128e8-eea9-403e-8a15-09060d1994da",
   "metadata": {},
   "source": [
    "### Test data"
   ]
  },
  {
   "cell_type": "markdown",
   "id": "9d52ea97-ab44-4c44-a14a-abd42a05e5e4",
   "metadata": {},
   "source": [
    "повторяем манипуляции для этой выборки"
   ]
  },
  {
   "cell_type": "code",
   "execution_count": 13,
   "id": "15383000-4b6f-4b61-95d2-460ffd908be3",
   "metadata": {},
   "outputs": [],
   "source": [
    "test_df = pd.read_csv('adult.test',\n",
    "                      header = None,\n",
    "                      names = columns, \n",
    "                      na_values = ' ?',\n",
    "                      skiprows = 1)"
   ]
  },
  {
   "cell_type": "code",
   "execution_count": 14,
   "id": "d937b8c0-e69f-48c5-8a15-4e461458f742",
   "metadata": {},
   "outputs": [
    {
     "name": "stdout",
     "output_type": "stream",
     "text": [
      "Размер набора данных: (16281, 15)\n"
     ]
    }
   ],
   "source": [
    "print(f'Размер набора данных: {test_df.shape}')"
   ]
  },
  {
   "cell_type": "code",
   "execution_count": 15,
   "id": "d716a4e8-6b3f-477e-938c-39e2db865b5d",
   "metadata": {},
   "outputs": [
    {
     "data": {
      "text/html": [
       "<div>\n",
       "<style scoped>\n",
       "    .dataframe tbody tr th:only-of-type {\n",
       "        vertical-align: middle;\n",
       "    }\n",
       "\n",
       "    .dataframe tbody tr th {\n",
       "        vertical-align: top;\n",
       "    }\n",
       "\n",
       "    .dataframe thead th {\n",
       "        text-align: right;\n",
       "    }\n",
       "</style>\n",
       "<table border=\"1\" class=\"dataframe\">\n",
       "  <thead>\n",
       "    <tr style=\"text-align: right;\">\n",
       "      <th></th>\n",
       "      <th>age</th>\n",
       "      <th>workclass</th>\n",
       "      <th>fnlwgt</th>\n",
       "      <th>education</th>\n",
       "      <th>education-num</th>\n",
       "      <th>marital-status</th>\n",
       "      <th>occupation</th>\n",
       "      <th>relationship</th>\n",
       "      <th>race</th>\n",
       "      <th>sex</th>\n",
       "      <th>capital-gain</th>\n",
       "      <th>capital-loss</th>\n",
       "      <th>hours-per-week</th>\n",
       "      <th>native-country</th>\n",
       "      <th>income</th>\n",
       "    </tr>\n",
       "  </thead>\n",
       "  <tbody>\n",
       "    <tr>\n",
       "      <th>0</th>\n",
       "      <td>25</td>\n",
       "      <td>Private</td>\n",
       "      <td>226802</td>\n",
       "      <td>11th</td>\n",
       "      <td>7</td>\n",
       "      <td>Never-married</td>\n",
       "      <td>Machine-op-inspct</td>\n",
       "      <td>Own-child</td>\n",
       "      <td>Black</td>\n",
       "      <td>Male</td>\n",
       "      <td>0</td>\n",
       "      <td>0</td>\n",
       "      <td>40</td>\n",
       "      <td>United-States</td>\n",
       "      <td>&lt;=50K.</td>\n",
       "    </tr>\n",
       "    <tr>\n",
       "      <th>1</th>\n",
       "      <td>38</td>\n",
       "      <td>Private</td>\n",
       "      <td>89814</td>\n",
       "      <td>HS-grad</td>\n",
       "      <td>9</td>\n",
       "      <td>Married-civ-spouse</td>\n",
       "      <td>Farming-fishing</td>\n",
       "      <td>Husband</td>\n",
       "      <td>White</td>\n",
       "      <td>Male</td>\n",
       "      <td>0</td>\n",
       "      <td>0</td>\n",
       "      <td>50</td>\n",
       "      <td>United-States</td>\n",
       "      <td>&lt;=50K.</td>\n",
       "    </tr>\n",
       "    <tr>\n",
       "      <th>2</th>\n",
       "      <td>28</td>\n",
       "      <td>Local-gov</td>\n",
       "      <td>336951</td>\n",
       "      <td>Assoc-acdm</td>\n",
       "      <td>12</td>\n",
       "      <td>Married-civ-spouse</td>\n",
       "      <td>Protective-serv</td>\n",
       "      <td>Husband</td>\n",
       "      <td>White</td>\n",
       "      <td>Male</td>\n",
       "      <td>0</td>\n",
       "      <td>0</td>\n",
       "      <td>40</td>\n",
       "      <td>United-States</td>\n",
       "      <td>&gt;50K.</td>\n",
       "    </tr>\n",
       "    <tr>\n",
       "      <th>3</th>\n",
       "      <td>44</td>\n",
       "      <td>Private</td>\n",
       "      <td>160323</td>\n",
       "      <td>Some-college</td>\n",
       "      <td>10</td>\n",
       "      <td>Married-civ-spouse</td>\n",
       "      <td>Machine-op-inspct</td>\n",
       "      <td>Husband</td>\n",
       "      <td>Black</td>\n",
       "      <td>Male</td>\n",
       "      <td>7688</td>\n",
       "      <td>0</td>\n",
       "      <td>40</td>\n",
       "      <td>United-States</td>\n",
       "      <td>&gt;50K.</td>\n",
       "    </tr>\n",
       "    <tr>\n",
       "      <th>4</th>\n",
       "      <td>18</td>\n",
       "      <td>NaN</td>\n",
       "      <td>103497</td>\n",
       "      <td>Some-college</td>\n",
       "      <td>10</td>\n",
       "      <td>Never-married</td>\n",
       "      <td>NaN</td>\n",
       "      <td>Own-child</td>\n",
       "      <td>White</td>\n",
       "      <td>Female</td>\n",
       "      <td>0</td>\n",
       "      <td>0</td>\n",
       "      <td>30</td>\n",
       "      <td>United-States</td>\n",
       "      <td>&lt;=50K.</td>\n",
       "    </tr>\n",
       "  </tbody>\n",
       "</table>\n",
       "</div>"
      ],
      "text/plain": [
       "   age   workclass  fnlwgt      education  education-num       marital-status  \\\n",
       "0   25     Private  226802           11th              7        Never-married   \n",
       "1   38     Private   89814        HS-grad              9   Married-civ-spouse   \n",
       "2   28   Local-gov  336951     Assoc-acdm             12   Married-civ-spouse   \n",
       "3   44     Private  160323   Some-college             10   Married-civ-spouse   \n",
       "4   18         NaN  103497   Some-college             10        Never-married   \n",
       "\n",
       "           occupation relationship    race      sex  capital-gain  \\\n",
       "0   Machine-op-inspct    Own-child   Black     Male             0   \n",
       "1     Farming-fishing      Husband   White     Male             0   \n",
       "2     Protective-serv      Husband   White     Male             0   \n",
       "3   Machine-op-inspct      Husband   Black     Male          7688   \n",
       "4                 NaN    Own-child   White   Female             0   \n",
       "\n",
       "   capital-loss  hours-per-week  native-country   income  \n",
       "0             0              40   United-States   <=50K.  \n",
       "1             0              50   United-States   <=50K.  \n",
       "2             0              40   United-States    >50K.  \n",
       "3             0              40   United-States    >50K.  \n",
       "4             0              30   United-States   <=50K.  "
      ]
     },
     "execution_count": 15,
     "metadata": {},
     "output_type": "execute_result"
    }
   ],
   "source": [
    "test_df.head()"
   ]
  },
  {
   "cell_type": "code",
   "execution_count": 16,
   "id": "61d45ffd-d1ee-41e8-8264-749ab6c5941c",
   "metadata": {},
   "outputs": [],
   "source": [
    "test_df = test_df.drop('education', axis = 1)\n",
    "test_df['income'] = test_df['income'].map({' <=50K.': 0,\n",
    "                                           ' >50K.' : 1})"
   ]
  },
  {
   "cell_type": "code",
   "execution_count": 17,
   "id": "e77d770c-aa52-417e-a3af-688f137a755c",
   "metadata": {},
   "outputs": [
    {
     "data": {
      "text/html": [
       "<div>\n",
       "<style scoped>\n",
       "    .dataframe tbody tr th:only-of-type {\n",
       "        vertical-align: middle;\n",
       "    }\n",
       "\n",
       "    .dataframe tbody tr th {\n",
       "        vertical-align: top;\n",
       "    }\n",
       "\n",
       "    .dataframe thead th {\n",
       "        text-align: right;\n",
       "    }\n",
       "</style>\n",
       "<table border=\"1\" class=\"dataframe\">\n",
       "  <thead>\n",
       "    <tr style=\"text-align: right;\">\n",
       "      <th></th>\n",
       "      <th>age</th>\n",
       "      <th>workclass</th>\n",
       "      <th>fnlwgt</th>\n",
       "      <th>education-num</th>\n",
       "      <th>marital-status</th>\n",
       "      <th>occupation</th>\n",
       "      <th>relationship</th>\n",
       "      <th>race</th>\n",
       "      <th>sex</th>\n",
       "      <th>capital-gain</th>\n",
       "      <th>capital-loss</th>\n",
       "      <th>hours-per-week</th>\n",
       "      <th>native-country</th>\n",
       "      <th>income</th>\n",
       "    </tr>\n",
       "  </thead>\n",
       "  <tbody>\n",
       "    <tr>\n",
       "      <th>0</th>\n",
       "      <td>25</td>\n",
       "      <td>Private</td>\n",
       "      <td>226802</td>\n",
       "      <td>7</td>\n",
       "      <td>Never-married</td>\n",
       "      <td>Machine-op-inspct</td>\n",
       "      <td>Own-child</td>\n",
       "      <td>Black</td>\n",
       "      <td>Male</td>\n",
       "      <td>0</td>\n",
       "      <td>0</td>\n",
       "      <td>40</td>\n",
       "      <td>United-States</td>\n",
       "      <td>0</td>\n",
       "    </tr>\n",
       "    <tr>\n",
       "      <th>1</th>\n",
       "      <td>38</td>\n",
       "      <td>Private</td>\n",
       "      <td>89814</td>\n",
       "      <td>9</td>\n",
       "      <td>Married-civ-spouse</td>\n",
       "      <td>Farming-fishing</td>\n",
       "      <td>Husband</td>\n",
       "      <td>White</td>\n",
       "      <td>Male</td>\n",
       "      <td>0</td>\n",
       "      <td>0</td>\n",
       "      <td>50</td>\n",
       "      <td>United-States</td>\n",
       "      <td>0</td>\n",
       "    </tr>\n",
       "    <tr>\n",
       "      <th>2</th>\n",
       "      <td>28</td>\n",
       "      <td>Local-gov</td>\n",
       "      <td>336951</td>\n",
       "      <td>12</td>\n",
       "      <td>Married-civ-spouse</td>\n",
       "      <td>Protective-serv</td>\n",
       "      <td>Husband</td>\n",
       "      <td>White</td>\n",
       "      <td>Male</td>\n",
       "      <td>0</td>\n",
       "      <td>0</td>\n",
       "      <td>40</td>\n",
       "      <td>United-States</td>\n",
       "      <td>1</td>\n",
       "    </tr>\n",
       "    <tr>\n",
       "      <th>3</th>\n",
       "      <td>44</td>\n",
       "      <td>Private</td>\n",
       "      <td>160323</td>\n",
       "      <td>10</td>\n",
       "      <td>Married-civ-spouse</td>\n",
       "      <td>Machine-op-inspct</td>\n",
       "      <td>Husband</td>\n",
       "      <td>Black</td>\n",
       "      <td>Male</td>\n",
       "      <td>7688</td>\n",
       "      <td>0</td>\n",
       "      <td>40</td>\n",
       "      <td>United-States</td>\n",
       "      <td>1</td>\n",
       "    </tr>\n",
       "    <tr>\n",
       "      <th>4</th>\n",
       "      <td>18</td>\n",
       "      <td>NaN</td>\n",
       "      <td>103497</td>\n",
       "      <td>10</td>\n",
       "      <td>Never-married</td>\n",
       "      <td>NaN</td>\n",
       "      <td>Own-child</td>\n",
       "      <td>White</td>\n",
       "      <td>Female</td>\n",
       "      <td>0</td>\n",
       "      <td>0</td>\n",
       "      <td>30</td>\n",
       "      <td>United-States</td>\n",
       "      <td>0</td>\n",
       "    </tr>\n",
       "  </tbody>\n",
       "</table>\n",
       "</div>"
      ],
      "text/plain": [
       "   age   workclass  fnlwgt  education-num       marital-status  \\\n",
       "0   25     Private  226802              7        Never-married   \n",
       "1   38     Private   89814              9   Married-civ-spouse   \n",
       "2   28   Local-gov  336951             12   Married-civ-spouse   \n",
       "3   44     Private  160323             10   Married-civ-spouse   \n",
       "4   18         NaN  103497             10        Never-married   \n",
       "\n",
       "           occupation relationship    race      sex  capital-gain  \\\n",
       "0   Machine-op-inspct    Own-child   Black     Male             0   \n",
       "1     Farming-fishing      Husband   White     Male             0   \n",
       "2     Protective-serv      Husband   White     Male             0   \n",
       "3   Machine-op-inspct      Husband   Black     Male          7688   \n",
       "4                 NaN    Own-child   White   Female             0   \n",
       "\n",
       "   capital-loss  hours-per-week  native-country  income  \n",
       "0             0              40   United-States       0  \n",
       "1             0              50   United-States       0  \n",
       "2             0              40   United-States       1  \n",
       "3             0              40   United-States       1  \n",
       "4             0              30   United-States       0  "
      ]
     },
     "execution_count": 17,
     "metadata": {},
     "output_type": "execute_result"
    }
   ],
   "source": [
    "test_df.head()"
   ]
  },
  {
   "cell_type": "code",
   "execution_count": 18,
   "id": "2365fc6a-3c28-4b24-9e6b-1d2b581dee0e",
   "metadata": {},
   "outputs": [],
   "source": [
    "test_df = test_df.dropna()"
   ]
  },
  {
   "cell_type": "code",
   "execution_count": 19,
   "id": "dd55e776-d21c-43bf-b18b-0a6f2d30e861",
   "metadata": {},
   "outputs": [
    {
     "name": "stdout",
     "output_type": "stream",
     "text": [
      "<class 'pandas.core.frame.DataFrame'>\n",
      "Index: 15060 entries, 0 to 16280\n",
      "Data columns (total 14 columns):\n",
      " #   Column          Non-Null Count  Dtype \n",
      "---  ------          --------------  ----- \n",
      " 0   age             15060 non-null  int64 \n",
      " 1   workclass       15060 non-null  object\n",
      " 2   fnlwgt          15060 non-null  int64 \n",
      " 3   education-num   15060 non-null  int64 \n",
      " 4   marital-status  15060 non-null  object\n",
      " 5   occupation      15060 non-null  object\n",
      " 6   relationship    15060 non-null  object\n",
      " 7   race            15060 non-null  object\n",
      " 8   sex             15060 non-null  object\n",
      " 9   capital-gain    15060 non-null  int64 \n",
      " 10  capital-loss    15060 non-null  int64 \n",
      " 11  hours-per-week  15060 non-null  int64 \n",
      " 12  native-country  15060 non-null  object\n",
      " 13  income          15060 non-null  int64 \n",
      "dtypes: int64(7), object(7)\n",
      "memory usage: 1.7+ MB\n"
     ]
    }
   ],
   "source": [
    "test_df.info()"
   ]
  },
  {
   "cell_type": "markdown",
   "id": "54111284-7321-4c98-b659-f1eeb779cecc",
   "metadata": {},
   "source": [
    "### Данные"
   ]
  },
  {
   "cell_type": "markdown",
   "id": "c916df52-cfa8-4e05-b8e5-bb373d29cb51",
   "metadata": {},
   "source": [
    "Смотрим на распределение клаасов в итоговой переменной (отклике)"
   ]
  },
  {
   "cell_type": "code",
   "execution_count": 20,
   "id": "673bfe15-c1e6-4df1-8370-b205f14c21b4",
   "metadata": {},
   "outputs": [
    {
     "data": {
      "text/plain": [
       "income\n",
       "0    0.751078\n",
       "1    0.248922\n",
       "Name: proportion, dtype: float64"
      ]
     },
     "execution_count": 20,
     "metadata": {},
     "output_type": "execute_result"
    }
   ],
   "source": [
    "df['income'].value_counts(normalize=True)"
   ]
  },
  {
   "cell_type": "markdown",
   "id": "f066b026-483f-47bd-903e-fc9101cb51d2",
   "metadata": {},
   "source": [
    "видим, что класс `0` преобладает и составляет около 75%, а класс `1` около 25%.\n",
    "\n",
    "Основываясь на этой информации, можно ссделать вывод, что классы не сбалансироваанны, учитывая это отметим, что метрики\n",
    "- `Precision` (процент предсказаний 1 среди всех предсказанных 1), `Recall` (процент предсказаных 1 среди всех истинных 1), `F1` (среднее геометрическое precision и recall) - помогут лучше оценить производительность модели на меньшем классе\n",
    "- `ROC-AUC` - эта метрика учитывает как чувствительность так и специфичность модели\n",
    "- `Confusion Matrix` - поможет в целом посмотреть на картину предсказаний для каждого класса "
   ]
  },
  {
   "cell_type": "markdown",
   "id": "d77e4d89-03a9-440a-a3d9-f55a52a6144a",
   "metadata": {},
   "source": [
    "отделяем целевую переменную на тестовых и обучающих данных"
   ]
  },
  {
   "cell_type": "code",
   "execution_count": 21,
   "id": "0605a40a-3b9f-486b-b2c7-33936f4cb181",
   "metadata": {},
   "outputs": [
    {
     "name": "stdout",
     "output_type": "stream",
     "text": [
      "X_train: (30162, 13) \n",
      "y_train: (30162,)       \n",
      "X_test: (15060, 13) \n",
      "y_test: (15060,)\n"
     ]
    }
   ],
   "source": [
    "X_train = df.drop('income', axis = 1)\n",
    "y_train = df['income']\n",
    "\n",
    "X_test = test_df.drop('income', axis = 1)\n",
    "y_test = test_df['income']\n",
    "\n",
    "print(f'X_train: {X_train.shape} \\ny_train: {y_train.shape}\\\n",
    "       \\nX_test: {X_test.shape} \\ny_test: {y_test.shape}')"
   ]
  },
  {
   "cell_type": "code",
   "execution_count": 22,
   "id": "bff84654-3151-4392-9104-86835fe193b0",
   "metadata": {},
   "outputs": [
    {
     "name": "stdout",
     "output_type": "stream",
     "text": [
      "<class 'pandas.core.frame.DataFrame'>\n",
      "Index: 30162 entries, 0 to 32560\n",
      "Data columns (total 13 columns):\n",
      " #   Column          Non-Null Count  Dtype \n",
      "---  ------          --------------  ----- \n",
      " 0   age             30162 non-null  int64 \n",
      " 1   workclass       30162 non-null  object\n",
      " 2   fnlwgt          30162 non-null  int64 \n",
      " 3   education-num   30162 non-null  int64 \n",
      " 4   marital-status  30162 non-null  object\n",
      " 5   occupation      30162 non-null  object\n",
      " 6   relationship    30162 non-null  object\n",
      " 7   race            30162 non-null  object\n",
      " 8   sex             30162 non-null  object\n",
      " 9   capital-gain    30162 non-null  int64 \n",
      " 10  capital-loss    30162 non-null  int64 \n",
      " 11  hours-per-week  30162 non-null  int64 \n",
      " 12  native-country  30162 non-null  object\n",
      "dtypes: int64(6), object(7)\n",
      "memory usage: 3.2+ MB\n",
      "<class 'pandas.core.frame.DataFrame'>\n",
      "Index: 15060 entries, 0 to 16280\n",
      "Data columns (total 13 columns):\n",
      " #   Column          Non-Null Count  Dtype \n",
      "---  ------          --------------  ----- \n",
      " 0   age             15060 non-null  int64 \n",
      " 1   workclass       15060 non-null  object\n",
      " 2   fnlwgt          15060 non-null  int64 \n",
      " 3   education-num   15060 non-null  int64 \n",
      " 4   marital-status  15060 non-null  object\n",
      " 5   occupation      15060 non-null  object\n",
      " 6   relationship    15060 non-null  object\n",
      " 7   race            15060 non-null  object\n",
      " 8   sex             15060 non-null  object\n",
      " 9   capital-gain    15060 non-null  int64 \n",
      " 10  capital-loss    15060 non-null  int64 \n",
      " 11  hours-per-week  15060 non-null  int64 \n",
      " 12  native-country  15060 non-null  object\n",
      "dtypes: int64(6), object(7)\n",
      "memory usage: 1.6+ MB\n"
     ]
    }
   ],
   "source": [
    "X_train.info()\n",
    "X_test.info()"
   ]
  },
  {
   "cell_type": "markdown",
   "id": "10010e02-42dd-4fd7-b73d-bfb4ceec429b",
   "metadata": {},
   "source": [
    "Обратим внимание на то, что в наборе данных присутвует большое кол-во категориальных признаков и от них нужно избавиться. \n",
    "\n",
    "В данном случае над всеми категориальными признаками применим метод `One-Hot-encoding`, в этом методе каждое уникальное значение признака получает свой столбец, который заполняется значениеми: в случае отсутствия уникального значения ставится `0` иначе  `1`."
   ]
  },
  {
   "cell_type": "code",
   "execution_count": 23,
   "id": "8bf55714-c6c6-4fc7-8b27-aff29f69c2e3",
   "metadata": {},
   "outputs": [],
   "source": [
    "X_train = pd.get_dummies(X_train)\n",
    "X_test = pd.get_dummies(X_test)"
   ]
  },
  {
   "cell_type": "code",
   "execution_count": 24,
   "id": "1bf80276-5cb3-4db9-b083-f5b3bbba20a9",
   "metadata": {},
   "outputs": [
    {
     "name": "stdout",
     "output_type": "stream",
     "text": [
      "X_train: (30162, 88)\n",
      "X_test: (15060, 87)\n"
     ]
    }
   ],
   "source": [
    "print(f'X_train: {X_train.shape}\\nX_test: {X_test.shape}')"
   ]
  },
  {
   "cell_type": "markdown",
   "id": "9093179d-b476-494d-a4b6-044acaebe89d",
   "metadata": {},
   "source": [
    "Замечаем, что признаки закодировались не совсем так как мы хотели и мы получили в обучающей выборке 88 признаков, а в тестовой 87. Найдем значение закодированного призака которое не попало в тестовую выборку и из-за чего не создался столбец."
   ]
  },
  {
   "cell_type": "code",
   "execution_count": 25,
   "id": "b67c4bc2-c1a3-48a2-999c-235e578755b6",
   "metadata": {},
   "outputs": [
    {
     "name": "stdout",
     "output_type": "stream",
     "text": [
      "{'native-country_ Holand-Netherlands'}\n",
      "set()\n"
     ]
    }
   ],
   "source": [
    "print(set(X_train.columns) - set(X_test.columns))\n",
    "print(set(X_test.columns) - set(X_train.columns))"
   ]
  },
  {
   "cell_type": "markdown",
   "id": "4425926e-39cc-448f-bf1d-252eb8dcddfb",
   "metadata": {},
   "source": [
    "Теперь можно исправить этот недочет. Создаем полный список всех колонок (из трейна и из теста) и переиндексируем, то есть сделаем так, чтобы столбцы соответствовали столбцам, указанным в списке колонок. Если будут отсутствовать столбцы из columns, они будут добавлены с пропущенными значениями (NaN). В нашем случае это будет столбец \"native-country_ Holand-Netherlands\"."
   ]
  },
  {
   "cell_type": "code",
   "execution_count": 26,
   "id": "9e1f2749-c31d-465f-9bc0-32922ae13e84",
   "metadata": {},
   "outputs": [],
   "source": [
    "X_columns = set(X_train.columns) | set(X_test.columns)\n",
    "\n",
    "X_train = X_train.reindex(columns=X_columns).fillna(0)\n",
    "X_test = X_test.reindex(columns=X_columns).fillna(0)"
   ]
  },
  {
   "cell_type": "code",
   "execution_count": 27,
   "id": "bcca51ea-61b3-42f2-82b1-bd18a7572355",
   "metadata": {},
   "outputs": [
    {
     "name": "stdout",
     "output_type": "stream",
     "text": [
      "X_train: (30162, 88)\n",
      "X_test: (15060, 88)\n",
      "True\n"
     ]
    }
   ],
   "source": [
    "print(f'X_train: {X_train.shape}\\nX_test: {X_test.shape}')\n",
    "print(set(X_train.columns) == set(X_test.columns))"
   ]
  },
  {
   "cell_type": "markdown",
   "id": "02acfc77-900e-4e95-8f3a-fd00c82e6466",
   "metadata": {},
   "source": [
    "Отметим, что с деревьями стандартизация ничего не улучшает и ничего не уменьшает, поэтому смысла ее делать не много.\n",
    "кроме всей проделланной предобработки, можно подобавлять новых признаков, которые будут являться, например объединением каких-то значений иных признаков."
   ]
  },
  {
   "cell_type": "markdown",
   "id": "d6c893d0-3edc-4bfb-afc3-8b6d8e4e52d8",
   "metadata": {},
   "source": [
    "### XGBoost"
   ]
  },
  {
   "cell_type": "code",
   "execution_count": 28,
   "id": "fc90c1a0-aca1-4760-bd2b-1019a5e4d284",
   "metadata": {},
   "outputs": [],
   "source": [
    "from sklearn.metrics import classification_report #для описания результатов\n",
    "\n",
    "from xgboost import XGBClassifier"
   ]
  },
  {
   "cell_type": "code",
   "execution_count": 29,
   "id": "3c9fafb1-910a-49fc-baa5-fa22867ac261",
   "metadata": {},
   "outputs": [
    {
     "data": {
      "text/html": [
       "<style>#sk-container-id-1 {color: black;}#sk-container-id-1 pre{padding: 0;}#sk-container-id-1 div.sk-toggleable {background-color: white;}#sk-container-id-1 label.sk-toggleable__label {cursor: pointer;display: block;width: 100%;margin-bottom: 0;padding: 0.3em;box-sizing: border-box;text-align: center;}#sk-container-id-1 label.sk-toggleable__label-arrow:before {content: \"▸\";float: left;margin-right: 0.25em;color: #696969;}#sk-container-id-1 label.sk-toggleable__label-arrow:hover:before {color: black;}#sk-container-id-1 div.sk-estimator:hover label.sk-toggleable__label-arrow:before {color: black;}#sk-container-id-1 div.sk-toggleable__content {max-height: 0;max-width: 0;overflow: hidden;text-align: left;background-color: #f0f8ff;}#sk-container-id-1 div.sk-toggleable__content pre {margin: 0.2em;color: black;border-radius: 0.25em;background-color: #f0f8ff;}#sk-container-id-1 input.sk-toggleable__control:checked~div.sk-toggleable__content {max-height: 200px;max-width: 100%;overflow: auto;}#sk-container-id-1 input.sk-toggleable__control:checked~label.sk-toggleable__label-arrow:before {content: \"▾\";}#sk-container-id-1 div.sk-estimator input.sk-toggleable__control:checked~label.sk-toggleable__label {background-color: #d4ebff;}#sk-container-id-1 div.sk-label input.sk-toggleable__control:checked~label.sk-toggleable__label {background-color: #d4ebff;}#sk-container-id-1 input.sk-hidden--visually {border: 0;clip: rect(1px 1px 1px 1px);clip: rect(1px, 1px, 1px, 1px);height: 1px;margin: -1px;overflow: hidden;padding: 0;position: absolute;width: 1px;}#sk-container-id-1 div.sk-estimator {font-family: monospace;background-color: #f0f8ff;border: 1px dotted black;border-radius: 0.25em;box-sizing: border-box;margin-bottom: 0.5em;}#sk-container-id-1 div.sk-estimator:hover {background-color: #d4ebff;}#sk-container-id-1 div.sk-parallel-item::after {content: \"\";width: 100%;border-bottom: 1px solid gray;flex-grow: 1;}#sk-container-id-1 div.sk-label:hover label.sk-toggleable__label {background-color: #d4ebff;}#sk-container-id-1 div.sk-serial::before {content: \"\";position: absolute;border-left: 1px solid gray;box-sizing: border-box;top: 0;bottom: 0;left: 50%;z-index: 0;}#sk-container-id-1 div.sk-serial {display: flex;flex-direction: column;align-items: center;background-color: white;padding-right: 0.2em;padding-left: 0.2em;position: relative;}#sk-container-id-1 div.sk-item {position: relative;z-index: 1;}#sk-container-id-1 div.sk-parallel {display: flex;align-items: stretch;justify-content: center;background-color: white;position: relative;}#sk-container-id-1 div.sk-item::before, #sk-container-id-1 div.sk-parallel-item::before {content: \"\";position: absolute;border-left: 1px solid gray;box-sizing: border-box;top: 0;bottom: 0;left: 50%;z-index: -1;}#sk-container-id-1 div.sk-parallel-item {display: flex;flex-direction: column;z-index: 1;position: relative;background-color: white;}#sk-container-id-1 div.sk-parallel-item:first-child::after {align-self: flex-end;width: 50%;}#sk-container-id-1 div.sk-parallel-item:last-child::after {align-self: flex-start;width: 50%;}#sk-container-id-1 div.sk-parallel-item:only-child::after {width: 0;}#sk-container-id-1 div.sk-dashed-wrapped {border: 1px dashed gray;margin: 0 0.4em 0.5em 0.4em;box-sizing: border-box;padding-bottom: 0.4em;background-color: white;}#sk-container-id-1 div.sk-label label {font-family: monospace;font-weight: bold;display: inline-block;line-height: 1.2em;}#sk-container-id-1 div.sk-label-container {text-align: center;}#sk-container-id-1 div.sk-container {/* jupyter's `normalize.less` sets `[hidden] { display: none; }` but bootstrap.min.css set `[hidden] { display: none !important; }` so we also need the `!important` here to be able to override the default hidden behavior on the sphinx rendered scikit-learn.org. See: https://github.com/scikit-learn/scikit-learn/issues/21755 */display: inline-block !important;position: relative;}#sk-container-id-1 div.sk-text-repr-fallback {display: none;}</style><div id=\"sk-container-id-1\" class=\"sk-top-container\"><div class=\"sk-text-repr-fallback\"><pre>XGBClassifier(base_score=None, booster=None, callbacks=None,\n",
       "              colsample_bylevel=None, colsample_bynode=None,\n",
       "              colsample_bytree=None, device=None, early_stopping_rounds=None,\n",
       "              enable_categorical=False, eval_metric=None, feature_types=None,\n",
       "              gamma=None, grow_policy=None, importance_type=None,\n",
       "              interaction_constraints=None, learning_rate=0.3, max_bin=None,\n",
       "              max_cat_threshold=None, max_cat_to_onehot=None,\n",
       "              max_delta_step=None, max_depth=6, max_leaves=None,\n",
       "              min_child_weight=None, missing=nan, monotone_constraints=None,\n",
       "              multi_strategy=None, n_estimators=100, n_jobs=None,\n",
       "              num_parallel_tree=None, random_state=None, ...)</pre><b>In a Jupyter environment, please rerun this cell to show the HTML representation or trust the notebook. <br />On GitHub, the HTML representation is unable to render, please try loading this page with nbviewer.org.</b></div><div class=\"sk-container\" hidden><div class=\"sk-item\"><div class=\"sk-estimator sk-toggleable\"><input class=\"sk-toggleable__control sk-hidden--visually\" id=\"sk-estimator-id-1\" type=\"checkbox\" checked><label for=\"sk-estimator-id-1\" class=\"sk-toggleable__label sk-toggleable__label-arrow\">XGBClassifier</label><div class=\"sk-toggleable__content\"><pre>XGBClassifier(base_score=None, booster=None, callbacks=None,\n",
       "              colsample_bylevel=None, colsample_bynode=None,\n",
       "              colsample_bytree=None, device=None, early_stopping_rounds=None,\n",
       "              enable_categorical=False, eval_metric=None, feature_types=None,\n",
       "              gamma=None, grow_policy=None, importance_type=None,\n",
       "              interaction_constraints=None, learning_rate=0.3, max_bin=None,\n",
       "              max_cat_threshold=None, max_cat_to_onehot=None,\n",
       "              max_delta_step=None, max_depth=6, max_leaves=None,\n",
       "              min_child_weight=None, missing=nan, monotone_constraints=None,\n",
       "              multi_strategy=None, n_estimators=100, n_jobs=None,\n",
       "              num_parallel_tree=None, random_state=None, ...)</pre></div></div></div></div></div>"
      ],
      "text/plain": [
       "XGBClassifier(base_score=None, booster=None, callbacks=None,\n",
       "              colsample_bylevel=None, colsample_bynode=None,\n",
       "              colsample_bytree=None, device=None, early_stopping_rounds=None,\n",
       "              enable_categorical=False, eval_metric=None, feature_types=None,\n",
       "              gamma=None, grow_policy=None, importance_type=None,\n",
       "              interaction_constraints=None, learning_rate=0.3, max_bin=None,\n",
       "              max_cat_threshold=None, max_cat_to_onehot=None,\n",
       "              max_delta_step=None, max_depth=6, max_leaves=None,\n",
       "              min_child_weight=None, missing=nan, monotone_constraints=None,\n",
       "              multi_strategy=None, n_estimators=100, n_jobs=None,\n",
       "              num_parallel_tree=None, random_state=None, ...)"
      ]
     },
     "execution_count": 29,
     "metadata": {},
     "output_type": "execute_result"
    }
   ],
   "source": [
    "model = XGBClassifier(seed = 42, \n",
    "                      n_estimators = 100,\n",
    "                      max_depth = 6, \n",
    "                      learning_rate = 0.3)\n",
    "model.fit(X_train, y_train)"
   ]
  },
  {
   "cell_type": "code",
   "execution_count": 30,
   "id": "8e9f027e-c167-4853-99b2-54315820c650",
   "metadata": {},
   "outputs": [
    {
     "name": "stdout",
     "output_type": "stream",
     "text": [
      "train: \n",
      "               precision    recall  f1-score   support\n",
      "\n",
      "           0       0.91      0.95      0.93     22654\n",
      "           1       0.84      0.73      0.78      7508\n",
      "\n",
      "    accuracy                           0.90     30162\n",
      "   macro avg       0.88      0.84      0.86     30162\n",
      "weighted avg       0.90      0.90      0.90     30162\n",
      "\n",
      "test: \n",
      "               precision    recall  f1-score   support\n",
      "\n",
      "           0       0.90      0.94      0.92     11360\n",
      "           1       0.77      0.67      0.72      3700\n",
      "\n",
      "    accuracy                           0.87     15060\n",
      "   macro avg       0.84      0.80      0.82     15060\n",
      "weighted avg       0.87      0.87      0.87     15060\n",
      "\n"
     ]
    }
   ],
   "source": [
    "y_pred_train = model.predict(X_train)\n",
    "print('train: \\n', classification_report(y_train, y_pred_train))\n",
    "\n",
    "y_pred_test = model.predict(X_test)\n",
    "print('test: \\n', classification_report(y_test, y_pred_test))"
   ]
  },
  {
   "cell_type": "markdown",
   "id": "0d8d876d-9e6f-409f-aca9-9488e72f5d64",
   "metadata": {},
   "source": [
    "### Информативность переменных"
   ]
  },
  {
   "cell_type": "code",
   "execution_count": 31,
   "id": "5a7a10aa-8877-4e29-908c-42e48868a5cd",
   "metadata": {},
   "outputs": [],
   "source": [
    "import seaborn as sns\n",
    "import xgboost as xgb"
   ]
  },
  {
   "cell_type": "code",
   "execution_count": 32,
   "id": "4da65c8e-497b-4dbd-83d1-5262eecfc279",
   "metadata": {},
   "outputs": [
    {
     "data": {
      "text/plain": [
       "<Axes: title={'center': 'Feature importance'}, xlabel='F score', ylabel='Features'>"
      ]
     },
     "execution_count": 32,
     "metadata": {},
     "output_type": "execute_result"
    },
    {
     "data": {
      "image/png": "[encoded data removed]",
      "text/plain": [
       "<Figure size 640x480 with 1 Axes>"
      ]
     },
     "metadata": {},
     "output_type": "display_data"
    }
   ],
   "source": [
    "xgb.plot_importance(model, max_num_features = 30)"
   ]
  },
  {
   "cell_type": "markdown",
   "id": "843935c0-d3fa-4980-8f70-56dea59462fc",
   "metadata": {},
   "source": [
    "Чем выше признак, чем больше его f score, тем он информативнее.\n",
    "Это можно понимать как: побежимся по всем деревьем и посмотрим сколько раз признак использовался для расщепления, чем больше раз, тем она важнее.\n",
    "\n",
    "Если отбросить долю неинформативных признаков, то на качество на обучающей выборке упадет, но на тестовой вырастет.  "
   ]
  },
  {
   "cell_type": "markdown",
   "id": "587ae3ff-71e2-452f-8ed7-63bacbd8dff8",
   "metadata": {},
   "source": [
    "### Параметры xgb"
   ]
  },
  {
   "cell_type": "markdown",
   "id": "abe6f3f3-d9e5-44e3-8963-6628b39b2710",
   "metadata": {},
   "source": [
    "Какие параметры важны, какие не важны и как выбирать правильные значения для важных параметров.\n",
    "\n",
    "<b>`booster`</b> - определяет тип модели, используемой для бустинга. То есть XGBoost будет состоять из деревьев решений `gbtree` или из каких-то других моделей, например  `gblinear` - Использует линейные модели вместо деревьев - этот вариант может быть полезен для задач, где линейные зависимости более выражены (в плохом случае результат хуже чем у деревьев, в хорошем случае обучение невероятно долгое). `dart` - Это вариант, который добавляет случайность в процесс обучения, что может помочь в борьбе с переобучением. Он использует деревья, как и gbtree, но применяет технику Dropouts, заимствованную из нейронных сетей, что позволяет случайным образом исключать некоторые деревья из процесса предсказания на каждой итерации.\n",
    "\n",
    "<b>`nthread`</b> - число ядер используемых при вычислении\n",
    "\n",
    "<b>`eta`</b> - скоркость обучения в методе скорейшего спуска, по умолчанию 0.3, обычно используют значения в интервале 0.01 - 0.2\n",
    "\n",
    "<b>`min_child_weight`</b> - минимальное значение для суммы весов в узле потомке, по умолчани 1 (слишком маленькое, нужно подбирать). Есть некие правила остановки, одно из них гласит, что если в узле слишком мало наблюдений, то такие узлы должны быть запрещены и для того, чтобы таких узлов не получалось было правило - если у потомка меньше 10 наблюдений, меньше 100 наблюдений, то такого потомка создавать нельзя. Так как у нас в явном видео количество наблюдений попавших в узел отсутствует, то вместо этого правила остановки вводится это ограничение, чтобы не было маленького кол-ва наблюдениий в узле. \n",
    "\n",
    "<b>`max_depth`</b> - максимальное число слоев дерева, по умолчанию 6. Предположим, что дерево хорошее и после первого расщепления 2, после второго, например, 4, после третьего 8 и получается дерево достаточно ветвистое и поэтому значение 6 кажется большим, так что нужно подбирать. Чем болььше глуюина, тем больше риск переобучения\n",
    "\n",
    "<b>`max_leaf_node`</b> - максимальное количество конечных узлов.\n",
    "\n",
    "<b>`gamma`</b> - запрещает расщепление узла, если заргрязнение потомков уменьшилось менее чем на gamma. Зачение зависит от используемого критерия качества. Надо подбирать используя кросс-валидацию. По умолчанию 0\n",
    "\n",
    "<b>`subsample`</b> - каждое дерево учится не по всем данным, а только по части. Может учится по части столбцов, по части строк. Передавая значения в этот параметр мы говорим на какой части строк наблюдений обучать наше дерево. 1 - на всех, 0.5 - каждый раз выбирает половину \n",
    "\n",
    "<b>`colsample_bytree`</b> - то же самое, что и `subsample` но только по дереву, то есть при каждом расщиплении выбирается своя подвыборка (сильнно замделяет), дефолт 1.\n",
    "\n",
    "<b>`lambda`</b> - отвечает за L2 регуляризацию (Ridge) - добавляет штраф, помогает уменьшить величину коэффициентов, что может улучшить обобщающую способность модели, особенно в случаях, когда данные имеют высокую размерность или присутствует шум. Надо подбирать используя кросс-валидацию\n",
    "\n",
    "<b>`alpha`</b> - отвечает за L1 регуляризацию (Lasso) - добавляет штраф к функции потерь, рекомендуется использовать при большом кол-ве признаков, так как лассо обнуляет некоторые коэффициенты, что приводит к отбору признаков и уменьшению сложности модели, дефолт 0.  \n",
    "\n",
    "<b>`objective`</b> - нужно сказать какая целевая функция (в формуле критерия качества сумма l(y^i, yi)) дефолт `reg:linear`. Чаще всего используются: `binary:logistic` – когда имеется два класса, выходные значения — вероятности принадлежать классу, не код класса. `multi:softmax` – когда имеется больше двух классов, выходные значения — код класса, не вероятности принадлежать классу. Надо еще дополнительно задать num_class — число классов в задаче. `multi:softprob` - когда имеется больше двух классов, выходные значения - вероятности принадлежат классу, не код классаласса."
   ]
  },
  {
   "cell_type": "code",
   "execution_count": 55,
   "id": "d606d9aa-6fbf-469c-988b-6caa569cb12b",
   "metadata": {},
   "outputs": [],
   "source": [
    "from sklearn.model_selection import GridSearchCV"
   ]
  },
  {
   "cell_type": "code",
   "execution_count": 132,
   "id": "9f418cac-cc7f-4120-a663-db6e28ba18b0",
   "metadata": {},
   "outputs": [],
   "source": [
    "greed_param = {'n_estimators' : [100],\n",
    "               'learning_rate' : [0.1, 0.2, 0.3],\n",
    "               'min_child_weight' : [1, 3, 6],\n",
    "               'max_depth' : [3, 4, 5]}"
   ]
  },
  {
   "cell_type": "code",
   "execution_count": 133,
   "id": "3ec3844b-265d-4048-b7d4-c05915a1446e",
   "metadata": {},
   "outputs": [],
   "source": [
    "gscv = GridSearchCV(cv = 5,\n",
    "                    error_score = 'raise',\n",
    "                    estimator = XGBClassifier(base_score = 0.5, # Начальная оценка для всех прогнозов\n",
    "                                              colsample_bylevel = 1,  # Доля признаков, используемых для создания каждого уровня дерева (1 - все)\n",
    "                                              colsample_bytree = 0.8, # Доля признаков, используемых для создания каждого дерева (0.8 - 80%)\n",
    "                                              gamma = 0, # Минимальная потеря, необходимая для разделения узла (0 - без ограничений)\n",
    "                                              learning_rate = 0.1, # Скорость обучения (шаг градиентного спуска)\n",
    "                                              max_delta_step = 0, # Максимальное изменение веса листа для предотвращения переобучения (0 - без ограничений)\n",
    "                                              max_depth = 3, # Максимальная глубина дерева\n",
    "                                              min_child_weight = 1, # Минимальная сумма весов всех наблюдений, необходимая в листе дерева\n",
    "                                              missing = np.nan, # Значение для пропущенных данных\n",
    "                                              n_estimators = 100, # Количество деревьев в ансамбле.\n",
    "                                              nthread = -1, # Количество потоков для параллельного выполнения (-1 - все потоки)\n",
    "                                              objective = 'binary:logistic', # Целевая функция для оптимизации (бинарная логистическая регрессия)\n",
    "                                              reg_alpha = 0, # Регуляризация L1 (лассо) (0 - отключено)\n",
    "                                              reg_lambda = 1, # Регуляризация L2 (ридж) (1 - включено)\n",
    "                                              scale_pos_weight = 1, # Вес положительного класса для балансировки несбалансированных данных\n",
    "                                              seed = 42, # Метка \n",
    "                                              verbosity = 2, # Вывод сообщений (0 - отключен)\n",
    "                                              subsample = 0.8,), # Доля наблюдений, используемых для создания каждого дерева\n",
    "                    # n_jobs = -1, # Количество процессоров для параллельного вычисления (-1 - все)\n",
    "                    param_grid = greed_param, \n",
    "                    # pre_dispatch = '2*n_jobs', # Количество задач, которые будут распределены по процессорам (дважды количество рабочих процессов)\n",
    "                    refit = True, # Указывает, нужно ли переобучить модель на всех данных с лучшими найденными гиперпараметрами.\n",
    "                    scoring = 'accuracy', \n",
    "                    verbose = 2)"
   ]
  },
  {
   "cell_type": "code",
   "execution_count": 134,
   "id": "d93efb0a-6596-4a07-9ab7-b499435f7707",
   "metadata": {},
   "outputs": [
    {
     "name": "stdout",
     "output_type": "stream",
     "text": [
      "Fitting 5 folds for each of 27 candidates, totalling 135 fits\n",
      "[CV] END learning_rate=0.1, max_depth=3, min_child_weight=1, n_estimators=100; total time=   0.9s\n",
      "[CV] END learning_rate=0.1, max_depth=3, min_child_weight=1, n_estimators=100; total time=   0.8s\n",
      "[CV] END learning_rate=0.1, max_depth=3, min_child_weight=1, n_estimators=100; total time=   0.8s\n",
      "[CV] END learning_rate=0.1, max_depth=3, min_child_weight=1, n_estimators=100; total time=   0.8s\n",
      "[CV] END learning_rate=0.1, max_depth=3, min_child_weight=1, n_estimators=100; total time=   0.8s\n",
      "[CV] END learning_rate=0.1, max_depth=3, min_child_weight=3, n_estimators=100; total time=   0.8s\n",
      "[CV] END learning_rate=0.1, max_depth=3, min_child_weight=3, n_estimators=100; total time=   0.8s\n",
      "[CV] END learning_rate=0.1, max_depth=3, min_child_weight=3, n_estimators=100; total time=   1.0s\n",
      "[CV] END learning_rate=0.1, max_depth=3, min_child_weight=3, n_estimators=100; total time=   0.9s\n",
      "[CV] END learning_rate=0.1, max_depth=3, min_child_weight=3, n_estimators=100; total time=   0.9s\n",
      "[CV] END learning_rate=0.1, max_depth=3, min_child_weight=6, n_estimators=100; total time=   0.9s\n",
      "[CV] END learning_rate=0.1, max_depth=3, min_child_weight=6, n_estimators=100; total time=   0.9s\n",
      "[CV] END learning_rate=0.1, max_depth=3, min_child_weight=6, n_estimators=100; total time=   0.8s\n",
      "[CV] END learning_rate=0.1, max_depth=3, min_child_weight=6, n_estimators=100; total time=   0.9s\n",
      "[CV] END learning_rate=0.1, max_depth=3, min_child_weight=6, n_estimators=100; total time=   0.9s\n",
      "[CV] END learning_rate=0.1, max_depth=4, min_child_weight=1, n_estimators=100; total time=   0.9s\n",
      "[CV] END learning_rate=0.1, max_depth=4, min_child_weight=1, n_estimators=100; total time=   0.9s\n",
      "[CV] END learning_rate=0.1, max_depth=4, min_child_weight=1, n_estimators=100; total time=   1.0s\n",
      "[CV] END learning_rate=0.1, max_depth=4, min_child_weight=1, n_estimators=100; total time=   0.9s\n",
      "[CV] END learning_rate=0.1, max_depth=4, min_child_weight=1, n_estimators=100; total time=   1.0s\n",
      "[CV] END learning_rate=0.1, max_depth=4, min_child_weight=3, n_estimators=100; total time=   1.0s\n",
      "[CV] END learning_rate=0.1, max_depth=4, min_child_weight=3, n_estimators=100; total time=   1.0s\n",
      "[CV] END learning_rate=0.1, max_depth=4, min_child_weight=3, n_estimators=100; total time=   1.0s\n",
      "[CV] END learning_rate=0.1, max_depth=4, min_child_weight=3, n_estimators=100; total time=   1.0s\n",
      "[CV] END learning_rate=0.1, max_depth=4, min_child_weight=3, n_estimators=100; total time=   1.0s\n",
      "[CV] END learning_rate=0.1, max_depth=4, min_child_weight=6, n_estimators=100; total time=   0.9s\n",
      "[CV] END learning_rate=0.1, max_depth=4, min_child_weight=6, n_estimators=100; total time=   1.0s\n",
      "[CV] END learning_rate=0.1, max_depth=4, min_child_weight=6, n_estimators=100; total time=   1.0s\n",
      "[CV] END learning_rate=0.1, max_depth=4, min_child_weight=6, n_estimators=100; total time=   0.9s\n",
      "[CV] END learning_rate=0.1, max_depth=4, min_child_weight=6, n_estimators=100; total time=   1.0s\n",
      "[CV] END learning_rate=0.1, max_depth=5, min_child_weight=1, n_estimators=100; total time=   1.0s\n",
      "[CV] END learning_rate=0.1, max_depth=5, min_child_weight=1, n_estimators=100; total time=   1.0s\n",
      "[CV] END learning_rate=0.1, max_depth=5, min_child_weight=1, n_estimators=100; total time=   1.1s\n",
      "[CV] END learning_rate=0.1, max_depth=5, min_child_weight=1, n_estimators=100; total time=   1.1s\n",
      "[CV] END learning_rate=0.1, max_depth=5, min_child_weight=1, n_estimators=100; total time=   1.0s\n",
      "[CV] END learning_rate=0.1, max_depth=5, min_child_weight=3, n_estimators=100; total time=   1.0s\n",
      "[CV] END learning_rate=0.1, max_depth=5, min_child_weight=3, n_estimators=100; total time=   1.0s\n",
      "[CV] END learning_rate=0.1, max_depth=5, min_child_weight=3, n_estimators=100; total time=   1.3s\n",
      "[CV] END learning_rate=0.1, max_depth=5, min_child_weight=3, n_estimators=100; total time=   1.1s\n",
      "[CV] END learning_rate=0.1, max_depth=5, min_child_weight=3, n_estimators=100; total time=   1.3s\n",
      "[CV] END learning_rate=0.1, max_depth=5, min_child_weight=6, n_estimators=100; total time=   1.1s\n",
      "[CV] END learning_rate=0.1, max_depth=5, min_child_weight=6, n_estimators=100; total time=   1.2s\n",
      "[CV] END learning_rate=0.1, max_depth=5, min_child_weight=6, n_estimators=100; total time=   1.1s\n",
      "[CV] END learning_rate=0.1, max_depth=5, min_child_weight=6, n_estimators=100; total time=   1.0s\n",
      "[CV] END learning_rate=0.1, max_depth=5, min_child_weight=6, n_estimators=100; total time=   1.0s\n",
      "[CV] END learning_rate=0.2, max_depth=3, min_child_weight=1, n_estimators=100; total time=   0.9s\n",
      "[CV] END learning_rate=0.2, max_depth=3, min_child_weight=1, n_estimators=100; total time=   0.9s\n",
      "[CV] END learning_rate=0.2, max_depth=3, min_child_weight=1, n_estimators=100; total time=   0.9s\n",
      "[CV] END learning_rate=0.2, max_depth=3, min_child_weight=1, n_estimators=100; total time=   1.1s\n",
      "[CV] END learning_rate=0.2, max_depth=3, min_child_weight=1, n_estimators=100; total time=   0.9s\n",
      "[CV] END learning_rate=0.2, max_depth=3, min_child_weight=3, n_estimators=100; total time=   1.0s\n",
      "[CV] END learning_rate=0.2, max_depth=3, min_child_weight=3, n_estimators=100; total time=   0.9s\n",
      "[CV] END learning_rate=0.2, max_depth=3, min_child_weight=3, n_estimators=100; total time=   1.3s\n",
      "[CV] END learning_rate=0.2, max_depth=3, min_child_weight=3, n_estimators=100; total time=   0.9s\n",
      "[CV] END learning_rate=0.2, max_depth=3, min_child_weight=3, n_estimators=100; total time=   0.8s\n",
      "[CV] END learning_rate=0.2, max_depth=3, min_child_weight=6, n_estimators=100; total time=   0.9s\n",
      "[CV] END learning_rate=0.2, max_depth=3, min_child_weight=6, n_estimators=100; total time=   0.9s\n",
      "[CV] END learning_rate=0.2, max_depth=3, min_child_weight=6, n_estimators=100; total time=   0.9s\n",
      "[CV] END learning_rate=0.2, max_depth=3, min_child_weight=6, n_estimators=100; total time=   0.9s\n",
      "[CV] END learning_rate=0.2, max_depth=3, min_child_weight=6, n_estimators=100; total time=   0.9s\n",
      "[CV] END learning_rate=0.2, max_depth=4, min_child_weight=1, n_estimators=100; total time=   1.0s\n",
      "[CV] END learning_rate=0.2, max_depth=4, min_child_weight=1, n_estimators=100; total time=   1.0s\n",
      "[CV] END learning_rate=0.2, max_depth=4, min_child_weight=1, n_estimators=100; total time=   0.9s\n",
      "[CV] END learning_rate=0.2, max_depth=4, min_child_weight=1, n_estimators=100; total time=   0.9s\n",
      "[CV] END learning_rate=0.2, max_depth=4, min_child_weight=1, n_estimators=100; total time=   0.9s\n",
      "[CV] END learning_rate=0.2, max_depth=4, min_child_weight=3, n_estimators=100; total time=   0.9s\n",
      "[CV] END learning_rate=0.2, max_depth=4, min_child_weight=3, n_estimators=100; total time=   1.0s\n",
      "[CV] END learning_rate=0.2, max_depth=4, min_child_weight=3, n_estimators=100; total time=   1.0s\n",
      "[CV] END learning_rate=0.2, max_depth=4, min_child_weight=3, n_estimators=100; total time=   1.2s\n",
      "[CV] END learning_rate=0.2, max_depth=4, min_child_weight=3, n_estimators=100; total time=   1.2s\n",
      "[CV] END learning_rate=0.2, max_depth=4, min_child_weight=6, n_estimators=100; total time=   1.0s\n",
      "[CV] END learning_rate=0.2, max_depth=4, min_child_weight=6, n_estimators=100; total time=   1.0s\n",
      "[CV] END learning_rate=0.2, max_depth=4, min_child_weight=6, n_estimators=100; total time=   1.1s\n",
      "[CV] END learning_rate=0.2, max_depth=4, min_child_weight=6, n_estimators=100; total time=   1.0s\n",
      "[CV] END learning_rate=0.2, max_depth=4, min_child_weight=6, n_estimators=100; total time=   0.9s\n",
      "[CV] END learning_rate=0.2, max_depth=5, min_child_weight=1, n_estimators=100; total time=   1.0s\n",
      "[CV] END learning_rate=0.2, max_depth=5, min_child_weight=1, n_estimators=100; total time=   1.1s\n",
      "[CV] END learning_rate=0.2, max_depth=5, min_child_weight=1, n_estimators=100; total time=   1.0s\n",
      "[CV] END learning_rate=0.2, max_depth=5, min_child_weight=1, n_estimators=100; total time=   1.2s\n",
      "[CV] END learning_rate=0.2, max_depth=5, min_child_weight=1, n_estimators=100; total time=   1.3s\n",
      "[CV] END learning_rate=0.2, max_depth=5, min_child_weight=3, n_estimators=100; total time=   1.3s\n",
      "[CV] END learning_rate=0.2, max_depth=5, min_child_weight=3, n_estimators=100; total time=   1.1s\n",
      "[CV] END learning_rate=0.2, max_depth=5, min_child_weight=3, n_estimators=100; total time=   1.0s\n",
      "[CV] END learning_rate=0.2, max_depth=5, min_child_weight=3, n_estimators=100; total time=   1.0s\n",
      "[CV] END learning_rate=0.2, max_depth=5, min_child_weight=3, n_estimators=100; total time=   1.1s\n",
      "[CV] END learning_rate=0.2, max_depth=5, min_child_weight=6, n_estimators=100; total time=   1.0s\n",
      "[CV] END learning_rate=0.2, max_depth=5, min_child_weight=6, n_estimators=100; total time=   1.1s\n",
      "[CV] END learning_rate=0.2, max_depth=5, min_child_weight=6, n_estimators=100; total time=   1.0s\n",
      "[CV] END learning_rate=0.2, max_depth=5, min_child_weight=6, n_estimators=100; total time=   1.0s\n",
      "[CV] END learning_rate=0.2, max_depth=5, min_child_weight=6, n_estimators=100; total time=   1.0s\n",
      "[CV] END learning_rate=0.3, max_depth=3, min_child_weight=1, n_estimators=100; total time=   0.9s\n",
      "[CV] END learning_rate=0.3, max_depth=3, min_child_weight=1, n_estimators=100; total time=   0.9s\n",
      "[CV] END learning_rate=0.3, max_depth=3, min_child_weight=1, n_estimators=100; total time=   0.9s\n",
      "[CV] END learning_rate=0.3, max_depth=3, min_child_weight=1, n_estimators=100; total time=   0.9s\n",
      "[CV] END learning_rate=0.3, max_depth=3, min_child_weight=1, n_estimators=100; total time=   0.9s\n",
      "[CV] END learning_rate=0.3, max_depth=3, min_child_weight=3, n_estimators=100; total time=   0.8s\n",
      "[CV] END learning_rate=0.3, max_depth=3, min_child_weight=3, n_estimators=100; total time=   0.9s\n",
      "[CV] END learning_rate=0.3, max_depth=3, min_child_weight=3, n_estimators=100; total time=   0.9s\n",
      "[CV] END learning_rate=0.3, max_depth=3, min_child_weight=3, n_estimators=100; total time=   0.9s\n",
      "[CV] END learning_rate=0.3, max_depth=3, min_child_weight=3, n_estimators=100; total time=   0.9s\n",
      "[CV] END learning_rate=0.3, max_depth=3, min_child_weight=6, n_estimators=100; total time=   0.9s\n",
      "[CV] END learning_rate=0.3, max_depth=3, min_child_weight=6, n_estimators=100; total time=   0.9s\n",
      "[CV] END learning_rate=0.3, max_depth=3, min_child_weight=6, n_estimators=100; total time=   0.9s\n",
      "[CV] END learning_rate=0.3, max_depth=3, min_child_weight=6, n_estimators=100; total time=   0.9s\n",
      "[CV] END learning_rate=0.3, max_depth=3, min_child_weight=6, n_estimators=100; total time=   0.9s\n",
      "[CV] END learning_rate=0.3, max_depth=4, min_child_weight=1, n_estimators=100; total time=   0.9s\n",
      "[CV] END learning_rate=0.3, max_depth=4, min_child_weight=1, n_estimators=100; total time=   1.0s\n",
      "[CV] END learning_rate=0.3, max_depth=4, min_child_weight=1, n_estimators=100; total time=   1.0s\n",
      "[CV] END learning_rate=0.3, max_depth=4, min_child_weight=1, n_estimators=100; total time=   1.0s\n",
      "[CV] END learning_rate=0.3, max_depth=4, min_child_weight=1, n_estimators=100; total time=   0.9s\n",
      "[CV] END learning_rate=0.3, max_depth=4, min_child_weight=3, n_estimators=100; total time=   0.9s\n",
      "[CV] END learning_rate=0.3, max_depth=4, min_child_weight=3, n_estimators=100; total time=   1.2s\n",
      "[CV] END learning_rate=0.3, max_depth=4, min_child_weight=3, n_estimators=100; total time=   1.0s\n",
      "[CV] END learning_rate=0.3, max_depth=4, min_child_weight=3, n_estimators=100; total time=   1.0s\n",
      "[CV] END learning_rate=0.3, max_depth=4, min_child_weight=3, n_estimators=100; total time=   1.0s\n",
      "[CV] END learning_rate=0.3, max_depth=4, min_child_weight=6, n_estimators=100; total time=   1.0s\n",
      "[CV] END learning_rate=0.3, max_depth=4, min_child_weight=6, n_estimators=100; total time=   1.0s\n",
      "[CV] END learning_rate=0.3, max_depth=4, min_child_weight=6, n_estimators=100; total time=   1.0s\n",
      "[CV] END learning_rate=0.3, max_depth=4, min_child_weight=6, n_estimators=100; total time=   0.9s\n",
      "[CV] END learning_rate=0.3, max_depth=4, min_child_weight=6, n_estimators=100; total time=   0.9s\n",
      "[CV] END learning_rate=0.3, max_depth=5, min_child_weight=1, n_estimators=100; total time=   1.0s\n",
      "[CV] END learning_rate=0.3, max_depth=5, min_child_weight=1, n_estimators=100; total time=   1.1s\n",
      "[CV] END learning_rate=0.3, max_depth=5, min_child_weight=1, n_estimators=100; total time=   1.0s\n",
      "[CV] END learning_rate=0.3, max_depth=5, min_child_weight=1, n_estimators=100; total time=   1.0s\n",
      "[CV] END learning_rate=0.3, max_depth=5, min_child_weight=1, n_estimators=100; total time=   1.1s\n",
      "[CV] END learning_rate=0.3, max_depth=5, min_child_weight=3, n_estimators=100; total time=   1.0s\n",
      "[CV] END learning_rate=0.3, max_depth=5, min_child_weight=3, n_estimators=100; total time=   1.0s\n",
      "[CV] END learning_rate=0.3, max_depth=5, min_child_weight=3, n_estimators=100; total time=   1.0s\n",
      "[CV] END learning_rate=0.3, max_depth=5, min_child_weight=3, n_estimators=100; total time=   1.1s\n",
      "[CV] END learning_rate=0.3, max_depth=5, min_child_weight=3, n_estimators=100; total time=   1.0s\n",
      "[CV] END learning_rate=0.3, max_depth=5, min_child_weight=6, n_estimators=100; total time=   1.0s\n",
      "[CV] END learning_rate=0.3, max_depth=5, min_child_weight=6, n_estimators=100; total time=   1.0s\n",
      "[CV] END learning_rate=0.3, max_depth=5, min_child_weight=6, n_estimators=100; total time=   1.1s\n",
      "[CV] END learning_rate=0.3, max_depth=5, min_child_weight=6, n_estimators=100; total time=   1.0s\n",
      "[CV] END learning_rate=0.3, max_depth=5, min_child_weight=6, n_estimators=100; total time=   1.2s\n"
     ]
    },
    {
     "data": {
      "text/html": [
       "<style>#sk-container-id-15 {color: black;}#sk-container-id-15 pre{padding: 0;}#sk-container-id-15 div.sk-toggleable {background-color: white;}#sk-container-id-15 label.sk-toggleable__label {cursor: pointer;display: block;width: 100%;margin-bottom: 0;padding: 0.3em;box-sizing: border-box;text-align: center;}#sk-container-id-15 label.sk-toggleable__label-arrow:before {content: \"▸\";float: left;margin-right: 0.25em;color: #696969;}#sk-container-id-15 label.sk-toggleable__label-arrow:hover:before {color: black;}#sk-container-id-15 div.sk-estimator:hover label.sk-toggleable__label-arrow:before {color: black;}#sk-container-id-15 div.sk-toggleable__content {max-height: 0;max-width: 0;overflow: hidden;text-align: left;background-color: #f0f8ff;}#sk-container-id-15 div.sk-toggleable__content pre {margin: 0.2em;color: black;border-radius: 0.25em;background-color: #f0f8ff;}#sk-container-id-15 input.sk-toggleable__control:checked~div.sk-toggleable__content {max-height: 200px;max-width: 100%;overflow: auto;}#sk-container-id-15 input.sk-toggleable__control:checked~label.sk-toggleable__label-arrow:before {content: \"▾\";}#sk-container-id-15 div.sk-estimator input.sk-toggleable__control:checked~label.sk-toggleable__label {background-color: #d4ebff;}#sk-container-id-15 div.sk-label input.sk-toggleable__control:checked~label.sk-toggleable__label {background-color: #d4ebff;}#sk-container-id-15 input.sk-hidden--visually {border: 0;clip: rect(1px 1px 1px 1px);clip: rect(1px, 1px, 1px, 1px);height: 1px;margin: -1px;overflow: hidden;padding: 0;position: absolute;width: 1px;}#sk-container-id-15 div.sk-estimator {font-family: monospace;background-color: #f0f8ff;border: 1px dotted black;border-radius: 0.25em;box-sizing: border-box;margin-bottom: 0.5em;}#sk-container-id-15 div.sk-estimator:hover {background-color: #d4ebff;}#sk-container-id-15 div.sk-parallel-item::after {content: \"\";width: 100%;border-bottom: 1px solid gray;flex-grow: 1;}#sk-container-id-15 div.sk-label:hover label.sk-toggleable__label {background-color: #d4ebff;}#sk-container-id-15 div.sk-serial::before {content: \"\";position: absolute;border-left: 1px solid gray;box-sizing: border-box;top: 0;bottom: 0;left: 50%;z-index: 0;}#sk-container-id-15 div.sk-serial {display: flex;flex-direction: column;align-items: center;background-color: white;padding-right: 0.2em;padding-left: 0.2em;position: relative;}#sk-container-id-15 div.sk-item {position: relative;z-index: 1;}#sk-container-id-15 div.sk-parallel {display: flex;align-items: stretch;justify-content: center;background-color: white;position: relative;}#sk-container-id-15 div.sk-item::before, #sk-container-id-15 div.sk-parallel-item::before {content: \"\";position: absolute;border-left: 1px solid gray;box-sizing: border-box;top: 0;bottom: 0;left: 50%;z-index: -1;}#sk-container-id-15 div.sk-parallel-item {display: flex;flex-direction: column;z-index: 1;position: relative;background-color: white;}#sk-container-id-15 div.sk-parallel-item:first-child::after {align-self: flex-end;width: 50%;}#sk-container-id-15 div.sk-parallel-item:last-child::after {align-self: flex-start;width: 50%;}#sk-container-id-15 div.sk-parallel-item:only-child::after {width: 0;}#sk-container-id-15 div.sk-dashed-wrapped {border: 1px dashed gray;margin: 0 0.4em 0.5em 0.4em;box-sizing: border-box;padding-bottom: 0.4em;background-color: white;}#sk-container-id-15 div.sk-label label {font-family: monospace;font-weight: bold;display: inline-block;line-height: 1.2em;}#sk-container-id-15 div.sk-label-container {text-align: center;}#sk-container-id-15 div.sk-container {/* jupyter's `normalize.less` sets `[hidden] { display: none; }` but bootstrap.min.css set `[hidden] { display: none !important; }` so we also need the `!important` here to be able to override the default hidden behavior on the sphinx rendered scikit-learn.org. See: https://github.com/scikit-learn/scikit-learn/issues/21755 */display: inline-block !important;position: relative;}#sk-container-id-15 div.sk-text-repr-fallback {display: none;}</style><div id=\"sk-container-id-15\" class=\"sk-top-container\"><div class=\"sk-text-repr-fallback\"><pre>GridSearchCV(cv=5, error_score=&#x27;raise&#x27;,\n",
       "             estimator=XGBClassifier(base_score=0.5, booster=None,\n",
       "                                     callbacks=None, colsample_bylevel=1,\n",
       "                                     colsample_bynode=None,\n",
       "                                     colsample_bytree=0.8, device=None,\n",
       "                                     early_stopping_rounds=None,\n",
       "                                     enable_categorical=False, eval_metric=None,\n",
       "                                     feature_types=None, gamma=0,\n",
       "                                     grow_policy=None, importance_type=None,\n",
       "                                     interaction_constraints=None,\n",
       "                                     learnin...\n",
       "                                     max_cat_to_onehot=None, max_delta_step=0,\n",
       "                                     max_depth=3, max_leaves=None,\n",
       "                                     min_child_weight=1, missing=nan,\n",
       "                                     monotone_constraints=None,\n",
       "                                     multi_strategy=None, n_estimators=100,\n",
       "                                     n_jobs=None, nthread=-1,\n",
       "                                     num_parallel_tree=None, ...),\n",
       "             param_grid={&#x27;learning_rate&#x27;: [0.1, 0.2, 0.3],\n",
       "                         &#x27;max_depth&#x27;: [3, 4, 5], &#x27;min_child_weight&#x27;: [1, 3, 6],\n",
       "                         &#x27;n_estimators&#x27;: [100]},\n",
       "             scoring=&#x27;accuracy&#x27;, verbose=2)</pre><b>In a Jupyter environment, please rerun this cell to show the HTML representation or trust the notebook. <br />On GitHub, the HTML representation is unable to render, please try loading this page with nbviewer.org.</b></div><div class=\"sk-container\" hidden><div class=\"sk-item sk-dashed-wrapped\"><div class=\"sk-label-container\"><div class=\"sk-label sk-toggleable\"><input class=\"sk-toggleable__control sk-hidden--visually\" id=\"sk-estimator-id-41\" type=\"checkbox\" ><label for=\"sk-estimator-id-41\" class=\"sk-toggleable__label sk-toggleable__label-arrow\">GridSearchCV</label><div class=\"sk-toggleable__content\"><pre>GridSearchCV(cv=5, error_score=&#x27;raise&#x27;,\n",
       "             estimator=XGBClassifier(base_score=0.5, booster=None,\n",
       "                                     callbacks=None, colsample_bylevel=1,\n",
       "                                     colsample_bynode=None,\n",
       "                                     colsample_bytree=0.8, device=None,\n",
       "                                     early_stopping_rounds=None,\n",
       "                                     enable_categorical=False, eval_metric=None,\n",
       "                                     feature_types=None, gamma=0,\n",
       "                                     grow_policy=None, importance_type=None,\n",
       "                                     interaction_constraints=None,\n",
       "                                     learnin...\n",
       "                                     max_cat_to_onehot=None, max_delta_step=0,\n",
       "                                     max_depth=3, max_leaves=None,\n",
       "                                     min_child_weight=1, missing=nan,\n",
       "                                     monotone_constraints=None,\n",
       "                                     multi_strategy=None, n_estimators=100,\n",
       "                                     n_jobs=None, nthread=-1,\n",
       "                                     num_parallel_tree=None, ...),\n",
       "             param_grid={&#x27;learning_rate&#x27;: [0.1, 0.2, 0.3],\n",
       "                         &#x27;max_depth&#x27;: [3, 4, 5], &#x27;min_child_weight&#x27;: [1, 3, 6],\n",
       "                         &#x27;n_estimators&#x27;: [100]},\n",
       "             scoring=&#x27;accuracy&#x27;, verbose=2)</pre></div></div></div><div class=\"sk-parallel\"><div class=\"sk-parallel-item\"><div class=\"sk-item\"><div class=\"sk-label-container\"><div class=\"sk-label sk-toggleable\"><input class=\"sk-toggleable__control sk-hidden--visually\" id=\"sk-estimator-id-42\" type=\"checkbox\" ><label for=\"sk-estimator-id-42\" class=\"sk-toggleable__label sk-toggleable__label-arrow\">estimator: XGBClassifier</label><div class=\"sk-toggleable__content\"><pre>XGBClassifier(base_score=0.5, booster=None, callbacks=None, colsample_bylevel=1,\n",
       "              colsample_bynode=None, colsample_bytree=0.8, device=None,\n",
       "              early_stopping_rounds=None, enable_categorical=False,\n",
       "              eval_metric=None, feature_types=None, gamma=0, grow_policy=None,\n",
       "              importance_type=None, interaction_constraints=None,\n",
       "              learning_rate=0.1, max_bin=None, max_cat_threshold=None,\n",
       "              max_cat_to_onehot=None, max_delta_step=0, max_depth=3,\n",
       "              max_leaves=None, min_child_weight=1, missing=nan,\n",
       "              monotone_constraints=None, multi_strategy=None, n_estimators=100,\n",
       "              n_jobs=None, nthread=-1, num_parallel_tree=None, ...)</pre></div></div></div><div class=\"sk-serial\"><div class=\"sk-item\"><div class=\"sk-estimator sk-toggleable\"><input class=\"sk-toggleable__control sk-hidden--visually\" id=\"sk-estimator-id-43\" type=\"checkbox\" ><label for=\"sk-estimator-id-43\" class=\"sk-toggleable__label sk-toggleable__label-arrow\">XGBClassifier</label><div class=\"sk-toggleable__content\"><pre>XGBClassifier(base_score=0.5, booster=None, callbacks=None, colsample_bylevel=1,\n",
       "              colsample_bynode=None, colsample_bytree=0.8, device=None,\n",
       "              early_stopping_rounds=None, enable_categorical=False,\n",
       "              eval_metric=None, feature_types=None, gamma=0, grow_policy=None,\n",
       "              importance_type=None, interaction_constraints=None,\n",
       "              learning_rate=0.1, max_bin=None, max_cat_threshold=None,\n",
       "              max_cat_to_onehot=None, max_delta_step=0, max_depth=3,\n",
       "              max_leaves=None, min_child_weight=1, missing=nan,\n",
       "              monotone_constraints=None, multi_strategy=None, n_estimators=100,\n",
       "              n_jobs=None, nthread=-1, num_parallel_tree=None, ...)</pre></div></div></div></div></div></div></div></div></div></div>"
      ],
      "text/plain": [
       "GridSearchCV(cv=5, error_score='raise',\n",
       "             estimator=XGBClassifier(base_score=0.5, booster=None,\n",
       "                                     callbacks=None, colsample_bylevel=1,\n",
       "                                     colsample_bynode=None,\n",
       "                                     colsample_bytree=0.8, device=None,\n",
       "                                     early_stopping_rounds=None,\n",
       "                                     enable_categorical=False, eval_metric=None,\n",
       "                                     feature_types=None, gamma=0,\n",
       "                                     grow_policy=None, importance_type=None,\n",
       "                                     interaction_constraints=None,\n",
       "                                     learnin...\n",
       "                                     max_cat_to_onehot=None, max_delta_step=0,\n",
       "                                     max_depth=3, max_leaves=None,\n",
       "                                     min_child_weight=1, missing=nan,\n",
       "                                     monotone_constraints=None,\n",
       "                                     multi_strategy=None, n_estimators=100,\n",
       "                                     n_jobs=None, nthread=-1,\n",
       "                                     num_parallel_tree=None, ...),\n",
       "             param_grid={'learning_rate': [0.1, 0.2, 0.3],\n",
       "                         'max_depth': [3, 4, 5], 'min_child_weight': [1, 3, 6],\n",
       "                         'n_estimators': [100]},\n",
       "             scoring='accuracy', verbose=2)"
      ]
     },
     "execution_count": 134,
     "metadata": {},
     "output_type": "execute_result"
    }
   ],
   "source": [
    "gscv.fit(X_train, y_train)"
   ]
  },
  {
   "cell_type": "code",
   "execution_count": 135,
   "id": "db943d34-7b47-4139-9a17-d6c79fa2632f",
   "metadata": {},
   "outputs": [
    {
     "name": "stdout",
     "output_type": "stream",
     "text": [
      "Лучшие параметры: {'learning_rate': 0.2, 'max_depth': 5, 'min_child_weight': 1, 'n_estimators': 100}\n"
     ]
    }
   ],
   "source": [
    "print(f'Лучшие параметры: {gscv.best_params_}')"
   ]
  },
  {
   "cell_type": "code",
   "execution_count": 136,
   "id": "46e9718a-a154-4dbf-8721-3fd8e1f6f17c",
   "metadata": {},
   "outputs": [
    {
     "name": "stdout",
     "output_type": "stream",
     "text": [
      "              precision    recall  f1-score   support\n",
      "\n",
      "           0       0.90      0.94      0.92     11360\n",
      "           1       0.78      0.67      0.72      3700\n",
      "\n",
      "    accuracy                           0.87     15060\n",
      "   macro avg       0.84      0.80      0.82     15060\n",
      "weighted avg       0.87      0.87      0.87     15060\n",
      "\n"
     ]
    }
   ],
   "source": [
    "gscv_y_pred_test = gscv.predict(X_test)\n",
    "print(classification_report(y_test, gscv_y_pred_test))"
   ]
  }
 ],
 "metadata": {
  "kernelspec": {
   "display_name": "Python 3 (ipykernel)",
   "language": "python",
   "name": "python3"
  },
  "language_info": {
   "codemirror_mode": {
    "name": "ipython",
    "version": 3
   },
   "file_extension": ".py",
   "mimetype": "text/x-python",
   "name": "python",
   "nbconvert_exporter": "python",
   "pygments_lexer": "ipython3",
   "version": "3.11.5"
  }
 },
 "nbformat": 4,
 "nbformat_minor": 5
}
